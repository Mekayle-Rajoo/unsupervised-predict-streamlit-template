{
 "cells": [
  {
   "cell_type": "code",
   "execution_count": 4,
   "id": "5ff8eb44",
   "metadata": {},
   "outputs": [],
   "source": [
    "import pandas as pd\n",
    "import random"
   ]
  },
  {
   "cell_type": "code",
   "execution_count": 5,
   "id": "d4d9a669",
   "metadata": {},
   "outputs": [],
   "source": [
    "mv = pd.read_csv(\"movies27000.csv\")"
   ]
  },
  {
   "cell_type": "code",
   "execution_count": 9,
   "id": "77e11f27",
   "metadata": {},
   "outputs": [],
   "source": [
    "sample = mv.sample(10)"
   ]
  },
  {
   "cell_type": "code",
   "execution_count": 16,
   "id": "cd05de39",
   "metadata": {},
   "outputs": [
    {
     "name": "stdout",
     "output_type": "stream",
     "text": [
      "Swann in Love (Un amour de Swann) (1984)\n",
      "https://www.imdb.com/title/tt0088315/\n",
      "José and Pilar (José e Pilar) (2010)\n",
      "https://www.imdb.com/title/tt1789810/\n",
      "Goat, The (1921)\n",
      "https://www.imdb.com/title/tt0012224/\n",
      "Terri (2011)\n",
      "https://www.imdb.com/title/tt1687281/\n",
      "Legend of Lobo, The (1962)\n",
      "https://www.imdb.com/title/tt0056173/\n",
      "Love, Wedding, Marriage (2011)\n",
      "https://www.imdb.com/title/tt1436559/\n",
      "Last Year at Marienbad (L'Année dernière à Marienbad) (1961)\n",
      "https://www.imdb.com/title/tt0054632/\n",
      "Eye See You (D-Tox) (2002)\n",
      "https://www.imdb.com/title/tt0160184/\n",
      "League of Their Own, A (1992)\n",
      "https://www.imdb.com/title/tt0104694/\n",
      "The Arnelo Affair (1947)\n",
      "https://www.imdb.com/title/tt0039160/\n"
     ]
    }
   ],
   "source": [
    "for i in sample[\"title\"]:\n",
    "    print(i)\n",
    "    link = list(sample[sample[\"title\"]==i][\"link\"])[0]\n",
    "    print(link)\n",
    "    image = "
   ]
  },
  {
   "cell_type": "code",
   "execution_count": 13,
   "id": "572fc527",
   "metadata": {},
   "outputs": [
    {
     "data": {
      "text/plain": [
       "24621    https://www.imdb.com/title/tt0039160/\n",
       "Name: link, dtype: object"
      ]
     },
     "execution_count": 13,
     "metadata": {},
     "output_type": "execute_result"
    }
   ],
   "source": [
    "link"
   ]
  },
  {
   "cell_type": "code",
   "execution_count": null,
   "id": "860eb04d",
   "metadata": {},
   "outputs": [],
   "source": []
  }
 ],
 "metadata": {
  "kernelspec": {
   "display_name": "Python 3 (ipykernel)",
   "language": "python",
   "name": "python3"
  },
  "language_info": {
   "codemirror_mode": {
    "name": "ipython",
    "version": 3
   },
   "file_extension": ".py",
   "mimetype": "text/x-python",
   "name": "python",
   "nbconvert_exporter": "python",
   "pygments_lexer": "ipython3",
   "version": "3.9.7"
  }
 },
 "nbformat": 4,
 "nbformat_minor": 5
}
